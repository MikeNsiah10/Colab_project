{
  "nbformat": 4,
  "nbformat_minor": 0,
  "metadata": {
    "colab": {
      "provenance": [],
      "toc_visible": true,
      "include_colab_link": true
    },
    "kernelspec": {
      "name": "python3",
      "display_name": "Python 3"
    },
    "language_info": {
      "name": "python"
    }
  },
  "cells": [
    {
      "cell_type": "markdown",
      "metadata": {
        "id": "view-in-github",
        "colab_type": "text"
      },
      "source": [
        "<a href=\"https://colab.research.google.com/github/MikeNsiah10/Colab_project/blob/main/Copy_of_Problem_Set_3_(2024_25).ipynb\" target=\"_parent\"><img src=\"https://colab.research.google.com/assets/colab-badge.svg\" alt=\"Open In Colab\"/></a>"
      ]
    },
    {
      "cell_type": "markdown",
      "source": [
        "<center>\n",
        "<font size = 10> <b> Problem Set 3 </b>\n",
        "<br>\n",
        "<font size = 5> <b> Neural Network Modeling </b>\n",
        "\n",
        "<div class=\"row\">\n",
        "            <img src=\"https://i.imgur.com/5Fjnaid.gif\"\n",
        "            width=500 height=250> </img>\n",
        "             \n",
        "</div>\n",
        "\n",
        "</center>"
      ],
      "metadata": {
        "id": "so2_7EzAdRbz"
      }
    },
    {
      "cell_type": "markdown",
      "source": [
        "## <font color=\"green\">**Exercise 0 - Run this cell<br> (0 points)**"
      ],
      "metadata": {
        "id": "7x1m8Y3PnWBg"
      }
    },
    {
      "cell_type": "code",
      "source": [
        "# Run this cell to load the following libraries\n",
        "!pip install cm-course-uos --upgrade\n",
        "\n",
        "from cm_course_uos import problemset3\n",
        "\n",
        "import random\n",
        "import matplotlib.pyplot as plt\n",
        "import numpy as np\n",
        "import pandas as pd\n",
        "\n",
        "# Set the seed\n",
        "random.seed(12)"
      ],
      "metadata": {
        "id": "c3AufYnJfbsZ",
        "outputId": "0f752038-55f9-4d11-cbd4-078df34b615c",
        "colab": {
          "base_uri": "https://localhost:8080/"
        }
      },
      "execution_count": null,
      "outputs": [
        {
          "output_type": "stream",
          "name": "stdout",
          "text": [
            "Collecting cm-course-uos\n",
            "  Downloading cm_course_uos-2.2.0-py3-none-any.whl.metadata (1.0 kB)\n",
            "Downloading cm_course_uos-2.2.0-py3-none-any.whl (42 kB)\n",
            "\u001b[?25l   \u001b[90m━━━━━━━━━━━━━━━━━━━━━━━━━━━━━━━━━━━━━━━━\u001b[0m \u001b[32m0.0/42.4 kB\u001b[0m \u001b[31m?\u001b[0m eta \u001b[36m-:--:--\u001b[0m\r\u001b[2K   \u001b[90m━━━━━━━━━━━━━━━━━━━━━━━━━━━━━━━━━━━━━━━━\u001b[0m \u001b[32m42.4/42.4 kB\u001b[0m \u001b[31m2.5 MB/s\u001b[0m eta \u001b[36m0:00:00\u001b[0m\n",
            "\u001b[?25hInstalling collected packages: cm-course-uos\n",
            "Successfully installed cm-course-uos-2.2.0\n"
          ]
        }
      ]
    },
    {
      "cell_type": "markdown",
      "source": [
        "## **Outline<br>**\n",
        "\n",
        "This problem set is composed of two parts, each introducing different aspects of neural network modeling in the context of the Stroop Model--a neural network model of cognitive control.\n",
        "\n",
        "**1.  Modeling Information Processing in the Stroop Model:** The part introduces basic concepts of processing in neural networks. We get to explore how neural networks can be used as a model of cognitive control, as exemplified in the Stroop task.\n",
        "\n",
        "**2.  Model Fitting with the Stroop Model:** The second part reintroduces basic concepts of fitting. In this part, we build on the neural network model of the Stroop task and will fit the model---without using backpropagation!\n",
        "\n",
        "Before diving into the respective parts, we introduce the neural network model we are working with: the Stroop Model.\n"
      ],
      "metadata": {
        "id": "6OGJwTyRgjNh"
      }
    },
    {
      "cell_type": "markdown",
      "source": [
        "## **Background: The Stroop Model<br>**\n",
        "\n",
        "The Stroop model operationalizes mental effort as cognitive control, that is, our ability to override habitual responses in order to align behavior with current task goals. For instance, you may be familiar with the so-called Stroop task in which participants have to name the color of a color word, e.g., say \"green\" in response to:\n",
        "\n",
        "<font color=\"green\" size=13> **RED** </font>\n",
        "\n",
        "We call this stimulus \"incongruent\" because the color and the word are associated with different responses. A congruent stimulus looks like this:\n",
        "\n",
        "<font color=\"green\" size=13> **GREEN** </font>\n",
        "\n",
        "Finally, there may be so-called neutral stimuli in which the participant has to respond to the color of a non-word:\n",
        "\n",
        "<font color=\"green\" size=13> **XXXX** </font>\n",
        "\n",
        "When studying human performance in the Stroop task, one can measure the error rate as a function of stimulus condition (neutral, incongruent, congruent), and as function of which task the participant performs (color naming or word reading).\n",
        "\n",
        "Cohen et al. (1990) came up with a neural network model that operationalizes mental effort. The model is depicted as following (adapted from Figure 1 of Cohen et al., 1990):\n",
        "\n",
        "<p align='center'><img src='https://raw.githubusercontent.com/jmasis/nntutorialmentaleffort2021/main/stroop_neural_network_simple.png'\n",
        "alt=\"3-layer network with bias units\" width=650px height=auto/></p>\n",
        "\n",
        "The network consists of three input layers, two hidden layers and one output layer. The input layer on the left encodes the ink color of the stimulus. For instance, if the stimulus was shown in red, we may set the input vector for the INK COLOR layer to $\\begin{bmatrix} 1 & 0 \\end{bmatrix}$. The input layer on the right encodes the current word. If the word is \"GREEN\" then we can set the word input layer to $\\begin{bmatrix} 0 & 1 \\end{bmatrix}$. Finally, the input layer in the middle encodes the task to be performed on the two stimuli. An illustration of this might be given if the participant would be asked to perform the color naming task, one would set the input units of the task demand layer to $\\begin{bmatrix} 1 & 0 \\end{bmatrix}$.\n",
        "\n",
        "The input layers project to two hidden layers, one that represents colors and another one that represents words. E.g., the first unit in the color hidden layer represents the color red. Note that inhibitory connections (negative weights) are depicted as dashed arrows. Finally, both hidden layers project to respective response units in the output layer.\n",
        "\n",
        "Note that the output layer receives inputs from two sources, the color hidden layer and the word hidden layer. Thus, **if the information represented in the color and word hidden layers is incongruent, then the output layer will receive conflicting responses.** However, an important feature of the Stroop Model is that the hidden and output units are inhibited at rest. That is, these units receive a negative weight from a bias unit. Thus, a more accurate depiction of the network would be:\n",
        "\n",
        "<p align='center'><img src='https://raw.githubusercontent.com/jmasis/nntutorialmentaleffort2021/main/stroop_neural_network.png'\n",
        "alt=\"3-layer network with bias units\" width=650px height=auto/></p>\n",
        "\n",
        "where the green units are bias units whose activity is always 1 and whose weight is negative. You can think of a bias as a constant term added to the net input of a unit:\n",
        "\n",
        "\\begin{equation}\n",
        "net_{y_j} = \\sum_{i=1}^M x_i w_{j,i} + \\text{bias}\n",
        "\\end{equation}\n",
        "\n",
        "Here, we assume that the bias is inhibitory, so we set $\\text{bias} < 0$.\n",
        "The inhibition introduced by the bias units is so strong that, without any input from the *TASK DEMAND* layer, the information from the color and word input layers would not \"make it through\" the hidden layers to the output layer. This is because adding a negative bias pushes the non-linear activation function to the right.\n",
        "\n",
        "<p align='center'><img src='https://github.com/jmasis/nntutorialmentaleffort2021/blob/326079df67a7bfe602d30d6aee246b64f53b0f39/BiasEffect.png?raw=True'\n",
        "alt=\"Effect of bias on sigmoidal activation function\" width=400px height=auto/></p>\n",
        "\n",
        "As a consequence, small net inputs will evaluate to something close to zero. However, the cool part about the Stroop model is that the **TASK DEMAND** layer can provide additional net input to the hidden units, making it possible to disinhibit them. For instance, if we set the color naming unit to 1, then we can provide additonal net input to the color hidden units. This negates the negative bias, allowing information from the **INK COLOR** input layer to flow through to the **RESPONSE** layer. Conversely, if we leave the word reading unit in the **TASK DEMAND** layer at 0, then the information from the **WORD** layer cannot leak through. The output layer would then only receive input from the color hidden units, thus enabling the network to perform the color naming task. This provides a mechanism for cognitive control: allocating cognitive control to a task means to activate a task demand unit (i.e., set it to 1).\n",
        "\n",
        "Now that you are familiar with the Stroop Model, let's start implementing the model."
      ],
      "metadata": {
        "id": "1Z5S0CpxmyhX"
      }
    },
    {
      "cell_type": "markdown",
      "source": [
        "# <font >**Part 1: Modeling Information Processing in the Stroop Model<br>**"
      ],
      "metadata": {
        "id": "KNUoSTdRfx0M"
      }
    },
    {
      "cell_type": "markdown",
      "source": [
        "## <font color=\"green\">**Exercise 1 - Compute Activations for hidden and output layers<br> (6 points)**\n",
        "\n",
        "### <font>**How do we compute a neuron's net activation?<br>**\n",
        "\n",
        "As discussed in the lecture, in order to compute the activity $y_j$ we need to know the net input of a unit. The net input of unit $y_j$ is simply the sum of the activity of the sending units in the previous layer, weighted by their projection weights. Let's say that the sending, input layer $x$ has $M$ units. Then the net input $y_j$ of a unit in the receiving layer corresponds to the sum of the inputs from the sending layer, weighted by the weights that connect the units of the sending layer with the units of the receiving layer,\n",
        "\n",
        "\\begin{equation}\n",
        "net_{y_j} = \\sum_{i=1}^M x_i w_{j,i} + \\text{bias}\n",
        "\\end{equation}\n",
        "\n",
        "where $x_i$ corresponds to the activity of input unit $i$ and $w_{j,i}$ corresponds to the weight of input unit $i$ to unit $j$ in the second layer, and **bias** corresponds to a constant bias term (see Background section above).\n",
        "\n",
        "Rather than defining the weights and input units separately (e.g. $w_{1,1}$ and $w_{1,2}$), we can define them more compactly as vectors (and eventually matrices) in order to make it easier to write out what is happening. If we do this, then we have the input vector $x$ and the weight vector $w$\n",
        "\n",
        "\\begin{equation}\n",
        "x = \\begin{bmatrix} 1 \\\\ 0 \\end{bmatrix}, w = \\begin{bmatrix} -0.5 \\\\ 2 \\end{bmatrix}\n",
        "\\end{equation}\n",
        "\n",
        "The above sum takes two vectors and turns them into one number, a constant or scalar. That tells us that we can write it out as a **dot product**,\n",
        "\n",
        "\\begin{equation}\n",
        "net_{y_j} = \\sum_{i=1}^M x_i w_{j,i} = x \\cdot w\n",
        "\\end{equation}\n",
        "\n",
        "which can be written as the transpose of $x$ (horizontal/row vector instead of vertical/column vector) times $w$,\n",
        "\n",
        "\\begin{equation}\n",
        "net_{y_j} = x^{T}w = \\begin{bmatrix} 1 & 0 \\end{bmatrix} \\begin{bmatrix} -0.5 \\\\ 2 \\end{bmatrix}\n",
        "\\end{equation}\n",
        "\n",
        "and with this simple dot product we get a scalar output, which is the net activation of unit $y_j$\n",
        "\n",
        "\\begin{equation}\n",
        "net_{y_j} = (1 * -0.5) + (0 * 2) = -0.5\n",
        "\\end{equation}\n",
        "\n",
        "### <font color=\"white\">**Feed Forward Pass<br>**\n",
        "\n",
        "In the forward pass we will propagate activity through the network, layer by layer. In feedforward networks, we already know the activity of the first (input) layer as it corresponds to the input pattern. Therefore, we will begin with computing the activity of the units in the second layer of the Stroop Network.\n",
        "\n",
        "Let's say that the second layer has $N$ units. Let $y_j$\n",
        "be the activation of a unit in the second layer that we want to compute where $j \\in \\{1,...,N\\}$. The activation of a unit is a function of its net input. In neural network models of cognition, single units often represent populations of neurons. The higher the activity of a unit, the more neurons are active (responding) in the corresponding neural population. For **activation functions** are usually interested in **differentiable, monotonic functions**, such as the **logistic function**, which bounds the activity of the units between 0 and 1.\n",
        "<br/><br/>\n",
        "\n",
        "\\begin{equation}\n",
        "y_j = \\textrm{logistic}(net_{y_j}) = \\frac{1}{1+e^{-net_{y_j}}}\n",
        "\\end{equation}\n",
        "\n",
        "<br/><br/>\n",
        "When we plot $y_j$ (the unit's activity) as a function of its net input, we get something like this:\n",
        "\n",
        "<p align='center'><img src='https://github.com/jmasis/nntutorialmentaleffort2021/blob/a47c4f5fc7eae409c60a63b317a5cce7f92948d6/2LSigmoid.png?raw=True'\n",
        "alt=\"2 Layer Network\" width=400px height=auto/></p>\n",
        "\n"
      ],
      "metadata": {
        "id": "fAkZ1UhHR1c0"
      }
    },
    {
      "cell_type": "markdown",
      "source": [
        "**IMPORTANT NOTE:**\n",
        "\n",
        "Before starting the problem set, please note the following:\n",
        "\n",
        "At the end of most coding exercises, you will see a comment like this:\n",
        "`# If you are not sure you correctly solved the exercise, uncomment the line below`\n",
        "\n",
        "This refers to a safeguard function provided to help you proceed even if you cannot correctly implement a function. If you encounter difficulties with an exercise, simply uncomment the safeguard line to use the pre-defined function and continue with the following exercises. However, remember that you need to implement the functions correctly to get the point.\n",
        "\n",
        "Now, finally, let’s dive in and start implementing our Stroop model!"
      ],
      "metadata": {
        "id": "AI24W8VF3xQ4"
      }
    },
    {
      "cell_type": "markdown",
      "source": [
        "### StroopNetwork Class\n",
        "\n",
        "This class is a means to keep all the functions and weights in one place. There is no exercise here. Just run this cell.  As you progress in this notebook, we will create all of the functions needed to run the Stroop Neural Network Model one by one."
      ],
      "metadata": {
        "id": "cdBlqlqNwKZs"
      }
    },
    {
      "cell_type": "code",
      "source": [
        "###################\n",
        "## RUN THIS CELL ##\n",
        "###################\n",
        "\n",
        "class StroopNetwork:\n",
        "    bias = -4\n",
        "    class Weights:\n",
        "        # Weights projecting from color input layer to color hidden layer\n",
        "        scale_ci_ch = 2.0\n",
        "        c_in_to_c_h = scale_ci_ch * np.array([[1, -1],\n",
        "                                              [-1, 1]])\n",
        "        # Weights projecting from color hidden layer to output layer\n",
        "        scale_ch_co = 2.0\n",
        "        c_h_to_out = scale_ch_co * np.array([[1, -1],\n",
        "                                             [-1, 1]])\n",
        "        # Weights projecting from word input layer to word hidden layer\n",
        "        scale_wi_wh = 2.0\n",
        "        w_in_to_w_h = scale_wi_wh * np.array([[1, -1],\n",
        "                                              [-1, 1]])\n",
        "        # Weights projecting from word hidden layer to output layer\n",
        "        scale_wh_wo = 2.0\n",
        "        w_h_to_out = scale_wh_wo * np.array([[1, -1],\n",
        "                                             [-1, 1]])\n",
        "        # Weights projecting from task layer to color hidden layer\n",
        "        scale_ti_ch = 4.0\n",
        "        t_in_to_c_h = scale_ti_ch * np.array([[1, 1],\n",
        "                                              [0, 0]])\n",
        "        # Weights projecting from task layer to word hidden layer\n",
        "        scale_ti_wh = 4.0\n",
        "        t_in_to_w_h = scale_ti_wh * np.array([[0, 0],\n",
        "                                              [1, 1]])\n",
        "\n",
        "    class MergedWeights:\n",
        "        # Color input to color hidden\n",
        "        c_in_to_c_h = problemset3.scale_color * np.array([[1, -1],\n",
        "                                                          [-1, 1]])\n",
        "        # Color hidden to output\n",
        "        c_h_to_out = problemset3.scale_color * np.array([[1, -1],\n",
        "                                                         [-1, 1]])\n",
        "        # Word input to word hidden\n",
        "        w_in_to_w_h = problemset3.scale_word * np.array([[1, -1],\n",
        "                                                         [-1, 1]])\n",
        "        # Word hidden to output\n",
        "        w_h_to_out = problemset3.scale_word * np.array([[1, -1],\n",
        "                                                        [-1, 1]])\n",
        "        # Task input to color hidden\n",
        "        t_in_to_c_h = problemset3.scale_task * np.array([[1, 1],\n",
        "                                                         [0, 0]])\n",
        "        # Task input to word hidden\n",
        "        t_in_to_w_h = problemset3.scale_task * np.array([[0, 0],\n",
        "                                                         [1, 1]])\n",
        "\n",
        "    ### Activation Functions ###\n",
        "    def logistic(x):\n",
        "        \"\"\"Defined in Subtask a.\"\"\"\n",
        "        return\n",
        "\n",
        "    def softmax(activation):\n",
        "      \"\"\"Used in Subtask d. \"\"\"\n",
        "      return np.exp(activation) / np.sum(np.exp(activation))\n",
        "\n",
        "    ### Layer activations ###\n",
        "    def color_hidden_activation(color_input, task_input,\n",
        "                                weights, bias):\n",
        "      \"\"\"Defined in Subtask b.\"\"\"\n",
        "      return\n",
        "\n",
        "\n",
        "    def word_hidden_activation(word_input, task_input,\n",
        "                               weights, bias):\n",
        "      \"\"\"Defined in Subtask c.\"\"\"\n",
        "      return\n",
        "\n",
        "    def output_activation(color_hidden_activation,\n",
        "                          word_hidden_activation,\n",
        "                          weights):\n",
        "      \"\"\"Defined in Subtask d.\"\"\"\n",
        "      return\n",
        "\n",
        "    ### Forward Pass ###\n",
        "    def forward(color_input, word_input,task_input, return_activations=False,\n",
        "                weights=None, bias=None):\n",
        "      \"\"\"Defined in Subtask e.\"\"\"\n",
        "      return\n",
        "\n",
        "### END OF CLASS ###"
      ],
      "metadata": {
        "id": "Dh6dy6ubeXqj"
      },
      "execution_count": null,
      "outputs": []
    },
    {
      "cell_type": "markdown",
      "source": [
        "### **Exercise 1a. Logistic Function (1 point)**\n",
        "\n",
        "<font color=\"green\" size=4> **Implement the logistic function defined above as $y_i = \\textrm{logistic}(net_{y_j}) = \\frac{1}{1+e^{-net_{y_j}}}$**\n",
        "\n",
        "<font color=\"green\" size=3> This function will be called many times by other functions later. Use `np.exp` for the exponential. This ensures you can use the function for arrays."
      ],
      "metadata": {
        "id": "IEm242m5EyTt"
      }
    },
    {
      "cell_type": "code",
      "source": [
        "def logistic(net_input):\n",
        "  \"\"\"\n",
        "  Applies the logistic (sigmoid) function to a given input.\n",
        "\n",
        "  The logistic function maps input values to the range (0, 1),\n",
        "  making it useful for modeling probabilities or bounded activations in neural networks.\n",
        "\n",
        "  Arguments:\n",
        "    net_input (scalar or array): A number or numpy array representing\n",
        "                                 the net input(s) of a layer.\n",
        "  Returns\n",
        "    result (scalar or array): The logistic function applied to each element\n",
        "                              in the net input\n",
        "  \"\"\"\n",
        "  ### SUBTASK A. START ###\n",
        "  result = 1/(1+np.exp(-net_input))\n",
        "\n",
        "  # Your Answer\n",
        "  ### SUBTASK A. END ###\n",
        "  return result\n",
        "\n",
        "# This replaces the placeholder function in the StroopNetwork class above\n",
        "StroopNetwork.logistic = logistic\n",
        "# If you are not sure you correctly solved the exercise uncomment the line below\n",
        "#StroopNetwork.logistic = problemset3.StroopNetwork.logistic\n"
      ],
      "metadata": {
        "id": "E-ooNocADLYC"
      },
      "execution_count": null,
      "outputs": []
    },
    {
      "cell_type": "markdown",
      "source": [
        "### **Exercise 1b. Net Input and Activation of Hidden Units for Colors (1 point)**\n",
        "\n",
        "<font color=\"green\" size=4> **Compute the net input and activation of the hidden units for colors.**\n",
        "\n",
        "You will need multiple calls of `np.dot(<input>,<weights>)` for this task. Access weights via `weights.<name_of_weights>`. You can look up the names of the weights in the above class `StroopNetwork.Weights`. Think about which inputs have to be multiplied with which weights. Mind the bias."
      ],
      "metadata": {
        "id": "em_LFLhEb9NN"
      }
    },
    {
      "cell_type": "markdown",
      "source": [
        "For your convenience, the weights of the Stroop network are listed below:\n",
        "\n",
        "Weights projecting from color input layer to color hidden layer: `weights.c_in_to_c_h`\n",
        "\n",
        "Weights projecting from color hidden layer to output layer: `weights.c_h_to_out`\n",
        "\n",
        "Weights projecting from word input layer to word hidden layer: `weights.w_in_to_w_h`\n",
        "\n",
        "Weights projecting from word hidden layer to output layer: `weights.w_h_to_out`\n",
        "\n",
        "Weights projecting from task layer to color hidden layer: `weights.t_in_to_c_h`\n",
        "\n",
        "Weights projecting from task layer to word hidden layer: `weights.t_in_to_w_h`"
      ],
      "metadata": {
        "id": "a62GYG3LQtEc"
      }
    },
    {
      "cell_type": "code",
      "source": [
        "def color_hidden_activation(color_input, task_input,\n",
        "                            weights,\n",
        "                            bias):\n",
        "  \"\"\"\n",
        "  Computes the activation of the hidden units in the color hidden layer.\n",
        "\n",
        "  Arguments:\n",
        "    color_input (2D array):     stores the color value,\n",
        "                                e.g. [[1,0]] for the color red\n",
        "    task_input (2D array):      stores the task value,\n",
        "                                e.g. [[1,0]] for \"color naming\"\n",
        "    weights (weights object):   collection of weights\n",
        "              Allows access to weights via weights.weight_name.\n",
        "                                e.g. `weights.c_in_to_c_h`\n",
        "              Look at the class StroopNetwork.Weights defined above\n",
        "                                for more descriptions.\n",
        "    bias (float):               A value determining the threshold for activation\n",
        "\n",
        "  Returns:\n",
        "    activation (2D array): Activation of the color hidden units.\n",
        "  \"\"\"\n",
        "  if weights is None:\n",
        "    weights = StroopNetwork.Weights\n",
        "  if bias is None:\n",
        "    bias = StroopNetwork.bias\n",
        "\n",
        "  ### SUBTASK B. START ###\n",
        "  net_input = np.dot(color_input ,weights.c_in_to_c_h)\n",
        "  # Your answer\n",
        "  net_input += np.dot(task_input , weights.t_in_to_c_h)\n",
        "  # Your answer\n",
        "  net_input += bias\n",
        "  # Your answer\n",
        "\n",
        "  activation = logistic(net_input)\n",
        "  # Your answer\n",
        "  ### SUBTASK B. END ###\n",
        "\n",
        "  return activation\n",
        "\n",
        "# Replace the placeholder function in the StroopNetwork class\n",
        "StroopNetwork.color_hidden_activation = color_hidden_activation\n",
        "# If you are not sure you correctly solved the exercise uncomment the line below\n",
        "#StroopNetwork.color_hidden_activation = problemset3.StroopNetwork.color_hidden_activation\n",
        "\n"
      ],
      "metadata": {
        "id": "XGUvIQNOrro1"
      },
      "execution_count": null,
      "outputs": []
    },
    {
      "cell_type": "markdown",
      "source": [
        "### **Exercise 1c. Net Input and Activation of Hidden Units for Words (1 point)**\n",
        "<font color=\"green\" size=4> **Compute the net input and activation for the hidden units for words.**\n",
        "\n",
        "As in the previous exercise, you will need multiple calls of `np.dot(<input>,<weights>)` for this task. Access weights via `weights.<name_of_weights>`. Look up the names of the weights in the above class `Weights`. Think about which inputs have to be multiplied with which weights. Mind the bias."
      ],
      "metadata": {
        "id": "5ONd689prz93"
      }
    },
    {
      "cell_type": "code",
      "source": [
        "def word_hidden_activation(word_input, task_input,\n",
        "                           weights,\n",
        "                           bias):\n",
        "  \"\"\"\n",
        "  Computes the activation of the hidden units in the word hidden layer.\n",
        "\n",
        "  Arguments:\n",
        "    word_input (2D array):     stores the color value,\n",
        "                                e.g. [[1,0]] for the color red\n",
        "    task_input (2D array):      stores the task value,\n",
        "                                e.g. [[1,0]] for \"color naming\"\n",
        "    weights (Weights object):   collection of weights\n",
        "              Allows access to weights via Weights.weight_name.\n",
        "                                e.g. `Weights.c_in_to_c_h`\n",
        "              Look at the class StroopNetwork.Weights defined above\n",
        "                                for more descriptions.\n",
        "    bias (float):               A value determining the threshold for activation\n",
        "\n",
        "  Returns:\n",
        "    activation (2D array): Activation of the word hidden units.\n",
        "  \"\"\"\n",
        "  if weights is None:\n",
        "    weights = StroopNetwork.Weights\n",
        "  if bias is None:\n",
        "    bias = StroopNetwork.bias\n",
        "\n",
        "  ### SUBTASK C. START ###\n",
        "  net_input =  np.dot(word_input , weights.w_in_to_w_h)\n",
        "  # Your answer\n",
        "  net_input += np.dot(task_input , weights.t_in_to_w_h)\n",
        "  # Your answer\n",
        "  net_input += bias\n",
        "  # Your answer\n",
        "\n",
        "  activation = logistic(net_input)\n",
        "  # Your answer\n",
        "  ### SUBTASK C. END ###\n",
        "\n",
        "  return activation\n",
        "\n",
        "# Replace the placeholder function in the StroopNetwork class\n",
        "StroopNetwork.word_hidden_activation = word_hidden_activation\n",
        "# If you are not sure you correctly solved the exercise uncomment the line below\n",
        "#StroopNetwork.word_hidden_activation = problemset3.StroopNetwork.word_hidden_activation\n"
      ],
      "metadata": {
        "id": "5JdJ3qoD2_41"
      },
      "execution_count": null,
      "outputs": []
    },
    {
      "cell_type": "markdown",
      "source": [
        "### **Exercise 1d. Net Input and Activation of Output Units (1 point)**\n",
        "<font color=\"green\" size=4> **Compute the net input and activation for the output units.**\n",
        "\n",
        " In the StroopNetwork, the values in the Output layer represent *response probabilities*. This means, this time you can not simply use the *logistic function* as activation function. Instead, you need to use a function which maps a vector of net inputs for each unit in the output layer to vector of relative probabilities (representing the probability that a given output, e.g., say \"red\", is initiated). To achieve this, we’ll once again turn to the trusty softmax function—the one you already know and love from the previous problem sets:\n",
        "\n",
        "$$ \\sigma(x_i) = \\frac{exp(x_i)}{\\Sigma_k^N \\; exp(x_k)} $$\n",
        "\n",
        "\n",
        "It is already implemented and can be accessed as `StroopNetwork.softmax(x)`."
      ],
      "metadata": {
        "id": "iF_jjzRUTVqk"
      }
    },
    {
      "cell_type": "code",
      "source": [
        "def output_activation(color_hidden_activation,\n",
        "                      word_hidden_activation,\n",
        "                      weights):\n",
        "  \"\"\"\n",
        "  Arguments:\n",
        "    color_hidden_activation (2D array):  the activation of the hidden color layer\n",
        "\n",
        "    word_hidden_activation (2D array):   the activation of the hidden word layer\n",
        "\n",
        "    weights (Weights object):  A collection of weights connecting the layers.\n",
        "                               Access weights via `weights.<name_of_weights>`.\n",
        "                               Look at the `StroopNetwork.Weights` class for details.\n",
        "  Returns:\n",
        "    activation (2D array): The softmax-normalized probabilities of each output unit.\n",
        "                           These probabilities sum to 1 and represent the network's\n",
        "                           prediction for each output.\n",
        "  \"\"\"\n",
        "  if weights is None:\n",
        "    weights = StroopNetwork.Weights\n",
        "\n",
        "  ### SUBTASK D. START ###\n",
        "  net_input = np.dot(color_hidden_activation , weights.c_h_to_out)\n",
        "  # Your answer\n",
        "\n",
        "  # Your answer\n",
        "  net_input +=np.dot(word_hidden_activation , weights.w_h_to_out)\n",
        "  # Your answer\n",
        "   # Your answer\n",
        "\n",
        "  activation = StroopNetwork.softmax(net_input)\n",
        "  # Your answer\n",
        "  ### SUBTASK D. END ###\n",
        "\n",
        "  return activation\n",
        "\n",
        "# Replace the placeholder function in our StroopNetwork class above\n",
        "StroopNetwork.output_activation = output_activation\n",
        "# If you are not sure you correctly solved the exercise uncomment the line below\n",
        "#StroopNetwork.output_activation = problemset3.StroopNetwork.output_activation\n",
        "\n"
      ],
      "metadata": {
        "id": "7VcSAZd_TmEf"
      },
      "execution_count": null,
      "outputs": []
    },
    {
      "cell_type": "markdown",
      "source": [
        "### **Exercise 1e. Forward Pass (2 points)**\n",
        "<font color=\"green\" size=4> **Compute one forward pass of the stroop network by bringing your functions together in `forward`.**\n",
        "\n",
        "In this function you need to\n",
        "* Compute the hidden activation for colors\n",
        "* Compute the hidden activation for words\n",
        "* Compute the output layer activation\n",
        "\n",
        "**Hint:** You can make use of the functions you implemented in previous exercises.\n"
      ],
      "metadata": {
        "id": "FSSw0vUEsH5W"
      }
    },
    {
      "cell_type": "code",
      "source": [
        "def forward(color_input, word_input, task_input, weights=None):\n",
        "  \"\"\"\n",
        "  Accepts a single input pattern for the color, word and task input layers\n",
        "  and produces a response probability at the output layer.\n",
        "\n",
        "  Arguments:\n",
        "    color_input` (2D array): Encoded color input, e.g., [[1, 0]] for \"red\".\n",
        "    word_input` (2D array): Encoded word input, e.g., [[1, 0]] for \"RED\".\n",
        "    task_input` (2D array): Encoded task input, e.g., [[1, 0]] for \"color naming\".\n",
        "    weights` (Weights object): Weight configurations. Defaults to `StroopNetwork.Weights`.\n",
        "\n",
        "  Returns:\n",
        "    activation_out (2D Array): A 1x2 array where each value corresponds to the\n",
        "                               probability of responding \"red\" or \"green\".\n",
        "  \"\"\"\n",
        "\n",
        "  if weights is None:\n",
        "    weights = StroopNetwork.Weights\n",
        "  bias = StroopNetwork.bias\n",
        "\n",
        "  ### SUBTASK E. START ###\n",
        "  # Compute activation of color hidden layer\n",
        "  activation_c_h = color_hidden_activation(color_input,task_input,weights,bias)\n",
        "\n",
        "  # Your answer\n",
        "\n",
        "  # Compute activation of word hidden layer\n",
        "  activation_w_h =word_hidden_activation(word_input,task_input,weights,bias)\n",
        "   # Your answer\n",
        "\n",
        "  # Compute activation of output layer\n",
        "  activation_out = output_activation(activation_c_h,activation_w_h,weights)\n",
        "\n",
        "  # Your answer\n",
        "  ### SUBTASK E. END ###\n",
        "\n",
        "  return activation_out\n",
        "\n",
        "# Replace the placeholder function in our StroopNetwork class above\n",
        "StroopNetwork.forward = forward\n",
        "# If you are not sure you correctly solved the exercise uncomment the line below\n",
        "#StroopNetwork.forward = problemset3.StroopNetwork.forward\n"
      ],
      "metadata": {
        "id": "Xf1Z9B4NJVXm"
      },
      "execution_count": null,
      "outputs": []
    },
    {
      "cell_type": "markdown",
      "source": [
        "## <font color=\"green\">**Exercise 2 - Encoding the Stroop Task<br> (2 points)</font>**\n",
        "\n",
        "\n",
        "<p align='center'><img src='https://raw.githubusercontent.com/jmasis/nntutorialmentaleffort2021/main/stroop_neural_network_simple.png'\n",
        "alt=\"3-layer network with bias units\" width=450px height=auto/></p>\n",
        "\n",
        "In this and the following exercises you will get to simulate behavior in the Stroop task, utilizing the processing functions of the Stroop model. To simulate different trials in the Stroop task, we will be assigning different values to the input units of the Stroop model. Here is a brief reminder of the model and its inputs:\n",
        "\n",
        "<i>The Stroop network consists of three input layers, two hidden layers and one output layer. The input layer on the left encodes the ink color of the stimulus. For instance, if the stimulus was shown in red, we may set the input vector for the INK COLOR layer to $\\begin{bmatrix} 1 & 0 \\end{bmatrix}$. The input layer on the right encodes the current word. If the word is \"GREEN\" then we can set the word input layer to $\\begin{bmatrix} 0 & 1 \\end{bmatrix}$. Finally, the input layer in the middle encodes the task to be performed on the two stimuli. An illustration of this might be given if the participant would be asked to perform the color naming task, one would set the input units of the task demand layer to $\\begin{bmatrix} 1 & 0 \\end{bmatrix}$.\n",
        "</i>\n",
        "\n",
        "But, before we encode the different conditions of the Stroop task, we should implement a simulation function first!"
      ],
      "metadata": {
        "id": "Nz-Yx8CuT0X5"
      }
    },
    {
      "cell_type": "markdown",
      "source": [
        "### Simulation Code (run!)\n",
        "\n",
        "In Exercise 1, you implemented the forward pass of the Stroop model. Now, we’ll use the model to simulate behavioral data for the Stroop task. This involves generating response probabilities for different conditions by assigning values to the input units of the Stroop model.\n",
        "\n",
        "You do not need to adjust anything here. Simply execute the code cell below!\n",
        "\n",
        "*Note:* To introduce variability across trials for the same condition, we’ve added slight Gaussian noise to the response probabilities in the simulation. This variability makes the modeling process less deterministic and helps simulate a range of responses that can be used for more robust parameter recovery. Execute the code cell below to implement the function that simulates data for the Stroop task."
      ],
      "metadata": {
        "id": "tyOAwUJmmd_H"
      }
    },
    {
      "cell_type": "code",
      "source": [
        "############################################\n",
        "####### RUN THIS HELPER CELL  ##############\n",
        "##### SIMULATING STROOP TRIALS #############\n",
        "############################################\n",
        "def simulate_trials(conditions, total_trials=100, weights=None):\n",
        "    \"\"\"\n",
        "    Simulates multiple trials of the Stroop network and stores responses as a dictionary.\n",
        "    Each condition name maps to a list of simulated responses.\n",
        "\n",
        "    Args:\n",
        "        conditions (dict): {<name>: <(color_input, word_input, task_input)>}\n",
        "            Example: conditions = {\"wr_congruent\": ([[1,0]], [[1,0]], [[0,1]])}\n",
        "        total_trials (int): The total number of trials to simulate.\n",
        "        weights (optional): Network weights for the StroopNetwork. If None,\n",
        "                            defaults to StroopNetwork.Weights.\n",
        "\n",
        "    Returns:\n",
        "        responses (dict): {<name>: <list of responses>}\n",
        "            Example: {\"wr_congruent\": [[0.95, 0.05], [0.92, 0.08]], ...}\n",
        "    \"\"\"\n",
        "    if weights is None:\n",
        "        weights = StroopNetwork.Weights\n",
        "\n",
        "    # Initialize the responses dictionary\n",
        "    responses = {name: [] for name in conditions.keys()}\n",
        "\n",
        "    # Convert conditions dictionary into a list of (name, condition) pairs\n",
        "    condition_list = list(conditions.items())\n",
        "\n",
        "    # Sample trials to reach the total number of trials\n",
        "    sampled_trials = random.choices(condition_list, k=total_trials)\n",
        "\n",
        "    # Simulate responses for each sampled trial\n",
        "    for name, condition in sampled_trials:\n",
        "        color_input, word_input, task_input = condition\n",
        "\n",
        "        # Get the deterministic response from the Stroop network\n",
        "        response =  problemset3.StroopNetwork.forward(color_input, word_input, task_input, weights=weights)\n",
        "\n",
        "        # Add Gaussian noise to the response probabilities\n",
        "        stochastic_response = response[0] + np.random.normal(0, 0.01, size=response[0].shape)\n",
        "\n",
        "        # Ensure probabilities are valid\n",
        "        stochastic_response = np.clip(stochastic_response, 0, 1)  # Clip to [0, 1]\n",
        "        stochastic_response /= stochastic_response.sum()  # Normalize to sum to 1\n",
        "\n",
        "        # Append the stochastic response to the responses dictionary\n",
        "        responses[name].append([stochastic_response])\n",
        "\n",
        "    return responses\n",
        "\n",
        "\n",
        "def compute_error_rates(conditions, responses):\n",
        "    \"\"\"\n",
        "    Computes error rates for conditions and responses from simulate_trials.\n",
        "\n",
        "    Args:\n",
        "        conditions (dict): Key-value pairs where\n",
        "                           conditions[\"trial_name\"] == (color_input, word_input, task_input)\n",
        "        responses (dict): Key-value pairs where\n",
        "                          responses[\"trial_name\"] ==  [[ prob_red, prob_green ]]\n",
        "                          (list of responses for a condition)\n",
        "\n",
        "    Returns:\n",
        "        error_rates (dict): Key-value pairs where\n",
        "                            error_rates[\"trial_name\"] == avg_prob_wrong_answer (e.g., 0.9)\n",
        "    \"\"\"\n",
        "    color_naming_task = np.array([[1, 0]])\n",
        "    red = np.array([[1, 0]])\n",
        "    error_rates = {}\n",
        "\n",
        "    for name in responses.keys():\n",
        "        # Retrieve condition inputs\n",
        "        color_input, word_input, task_input = conditions[name]\n",
        "\n",
        "        # Determine the correct response\n",
        "        if np.array_equal(task_input, color_naming_task):\n",
        "            correct_response = color_input\n",
        "        else:\n",
        "            correct_response = word_input\n",
        "\n",
        "        # Determine the index of the correct response (red or green)\n",
        "        r_idx = 0 if np.array_equal(correct_response, red) else 1\n",
        "\n",
        "        # Loop through all responses for this condition and compute error rates\n",
        "        trial_error_rates = []\n",
        "        for network_response in responses[name]:\n",
        "            error_rate = 1 - network_response[0][r_idx]  # Error rate = 1 - P(correct)\n",
        "            trial_error_rates.append(error_rate)\n",
        "\n",
        "        # Store the average error rate for the condition\n",
        "        error_rates[name] = np.mean(trial_error_rates)\n",
        "\n",
        "    return error_rates\n",
        "\n",
        "\n",
        "def plot_error_rates(error_rates):\n",
        "  x_data = [0, 1, 2]\n",
        "  y_data_col = [error_rates[\"cn_neutral\"] * 100,\n",
        "                error_rates[\"cn_incongruent\"] * 100,\n",
        "                error_rates[\"cn_congruent\"] * 100]\n",
        "\n",
        "  y_data_wrd = [error_rates[\"wr_neutral\"] * 100,\n",
        "                error_rates[\"wr_incongruent\"] * 100,\n",
        "                error_rates[\"wr_congruent\"] * 100]\n",
        "\n",
        "  x_limit = [-0.5, 2.5]\n",
        "  y_limit = [0, 100]\n",
        "  x_label = \"Condition\"\n",
        "  y_label = \"Error Rate (%)\"\n",
        "  legend = ('color naming', 'word reading')\n",
        "\n",
        "  plt.plot(x_data, y_data_col, label=legend[0])\n",
        "  plt.plot(x_data, y_data_wrd, '--', label=legend[1])\n",
        "  plt.xlim(x_limit)\n",
        "  plt.ylim(y_limit)\n",
        "  plt.ylabel(y_label, fontsize=\"large\")\n",
        "  plt.legend(loc=2, fontsize=\"large\")\n",
        "  plt.xticks([0, 1, 2], ['Neutral', 'Incongruent', 'Congruent'],rotation=0)\n",
        "  plt.show()\n",
        "  return\n"
      ],
      "metadata": {
        "id": "81i1YVnC9pnk"
      },
      "execution_count": null,
      "outputs": []
    },
    {
      "cell_type": "markdown",
      "source": [
        "### **Exercise 2a. Defining Stroop Conditions (2 points)**\n",
        "\n",
        "<font color=\"green\" size=4> **Now it is time to encode the Stroop task in terms of the models' inputs. Define the color, word and task inputs for color naming tasks with `congruent`, `incongruent` and `neutral` trials**\n",
        "<font color=\"green\" size=3>\n",
        "\n",
        "**As a reminder**:\n",
        "In the Stroop task, participants have to name the color of a color word, e.g., say \"green\" in response to:\n",
        "\n",
        "<font color=\"green\" size=5> **RED** </font>\n",
        "\n",
        "We call this stimulus \"incongruent\" because the color and the word are associated with different responses. A congruent stimulus looks like this:\n",
        "\n",
        "<font color=\"green\" size=5> **GREEN** </font>\n",
        "\n",
        "This stimulus is \"congruent\" because the color and the word matches. Finally, there may be so-called neutral stimuli in which the participant has to respond to the color of a non-word:\n",
        "\n",
        "<font color=\"green\" size=5> **XXXX** </font>\n",
        "\n",
        "Now it is your turn to implement these trial types for the Stroop model.  Look for code comments `### START EXERCISE 2. ### `, indicating where you need to work."
      ],
      "metadata": {
        "id": "M4YFy52fkCdS"
      }
    },
    {
      "cell_type": "code",
      "source": [
        "# Word / Color Inputs\n",
        "red = np.array([[1,0]])\n",
        "green = np.array([[0,1]])\n",
        "neutral = np.array([[0,0]])\n",
        "# Task Inputs\n",
        "color_naming = np.array([[1,0]])\n",
        "word_reading = np.array([[0,1]])\n",
        "\n",
        "\n",
        "### START EXERCISE 2. ###\n",
        "# Don't use any other inputs than the ones defined in this cell:\n",
        "# red, green, neutral, color_naming, word_reading\n",
        "\n",
        "                                #  COLOR    WORD       TASK\n",
        "conditions = {\"cn_congruent\":  (red,red, color_naming),  #(color,   word,      task),\n",
        "              \"cn_incongruent\": (red, green, color_naming), #(color,   word,      task),\n",
        "              \"cn_neutral\":    (green,neutral, color_naming),    #(color,   word,      task),\n",
        "              \"wr_congruent\":    (green,green,word_reading),#(color,   word,      task),\n",
        "              \"wr_incongruent\":  (red,green,word_reading),#(color,   word,      task),\n",
        "              \"wr_neutral\":      (neutral,  red,  word_reading) # <- Example\n",
        "              }\n",
        "### END EXERCISE 2. ###\n",
        "\n",
        "# Uncomment if you think you defined the conditions incorrectly\n",
        "#conditions = problemset3.conditions\n"
      ],
      "metadata": {
        "id": "WIMrLFT90Xab"
      },
      "execution_count": null,
      "outputs": []
    },
    {
      "cell_type": "markdown",
      "source": [
        "## <font color=\"green\">**Exercise 3 - Manual Weight Tweaking (4 Points)**\n",
        "\n",
        "In this exercise you will work through what some cognitive modelers have done in the past: tweaking the parameters of their model to find parameter values which explain their data.\n",
        "\n",
        "The data to be explained by the Stroop model is the participants' tendency to commit more errors in color naming tasks when the word to be read is incongruent with its font color (e.g.<font color=red> GREEN </font>), compared to when the stimulus is congruent (e.g.<font color=red> RED </font>) or neutral (e.g.<font color=red> XXXX </font>),\n",
        "\n"
      ],
      "metadata": {
        "id": "1yoIqk-EjRZo"
      }
    },
    {
      "cell_type": "markdown",
      "source": [
        "### **Exercise 3a. Comment Error Rates (1 point)**\n",
        "\n",
        "<font color=\"green\" size=4> **Plot the error rates for the conditions you have defined above. Does what you see correspond to what you would expect from human data? Explain your answer in terms of the weights of the network and the difference between color naming and word reading tasks. Provide your answer in less than 50 words.**\n",
        "\n",
        "**Hint**: *You may want to refer to the StroopNetwork Class defined above to examine the current weights of the network (don't alter them yet!).*\n",
        "_____\n"
      ],
      "metadata": {
        "id": "U9UKnSZQ3Ped"
      }
    },
    {
      "cell_type": "code",
      "source": [
        "#### RUN THIS CELL -  PLOT THE NETWORK PERFORMANCE ####\n",
        "# We use the conditions you have defined in Exercise 2a to determine the response\n",
        "# probabilities obtained from the StroopNetwork.\n",
        "responses = simulate_trials(conditions)\n",
        "\n",
        "# Compute the error rates (by substracting the probability for the correct response\n",
        "# from 1)\n",
        "error_rates = compute_error_rates(conditions, responses)\n",
        "\n",
        "# Visualize the error rates\n",
        "plot_error_rates(error_rates)"
      ],
      "metadata": {
        "id": "Ub7CV2ysjDqT",
        "colab": {
          "base_uri": "https://localhost:8080/",
          "height": 435
        },
        "outputId": "18859db7-d254-4983-c66b-7b5944367418"
      },
      "execution_count": null,
      "outputs": [
        {
          "output_type": "display_data",
          "data": {
            "text/plain": [
              "<Figure size 640x480 with 1 Axes>"
            ],
            "image/png": "[encoded data removed]"
          },
          "metadata": {}
        }
      ]
    },
    {
      "cell_type": "code",
      "source": [
        "task_3a = \"\"\"\n",
        "the plot does not correspond to what we would expect from a human behaviour.\n",
        "Identical scaling values applied to the weights and used in respective layers,\n",
        "lead to uniform activation patterns. This results in similar errors during any of the tasks\n",
        "\n",
        "\"\"\"\n"
      ],
      "metadata": {
        "id": "AEWA5oLJlzXA"
      },
      "execution_count": null,
      "outputs": []
    },
    {
      "cell_type": "markdown",
      "source": [
        "###**Exercise 3b. Tweaking Weights to fit Human Data (2 points)<br>**\n",
        "\n",
        "<font color=\"green\" size=4>\n",
        "<b>Adjust the StroopNetwork weights in the cell below to roughly recreate the following error response pattern. </b>\n",
        "\n",
        "<p align='center'><img src='https://raw.githubusercontent.com/jmasis/nntutorialmentaleffort2021/main/stroop_results.png'\n",
        "alt=\"3-layer network with bias units\" width=500px height=auto/></p>\n",
        "\n",
        "In this task, you will manually adjust the weights in the StroopNetwork to reproduce the classic behavioral error response pattern seen in human Stroop task experiments. Specifically, the pattern should reflect higher error rates in incongruent conditions compared to congruent or neutral conditions, especially for the color naming task.\n",
        "\n",
        "<b>Hint 1:</b> *As a guidance, you may experiment with the weights between the range of 1 and 5, including float values. Don't rely entirely on the feedback from the test function. If it tells you it looks plausible while it clearly isn't, you will not get a point.*\n",
        "\n",
        "<b>Hint 2:</b> *Note that each weight matrix has positive weights on the diagonal (solid lines in the picture below) and negative weights on the anti-diagonal (dashed lines in the picture below). This is because the units of competing colors inhibit each other. E.g., the color input unit for green activates the color hidden unit for green (therefore the positive weight) but deactivates the color hidden unit for red (therefore the negative weight) in the color hidden layer. You can preserve this \"cross-inhibition\" pattern by playing with the scalars in front of each weight matrix, e.g. `scale_ci_ch` for scaling the weights from the color input layer to the color hidden layer.*\n",
        "\n",
        "<p align='center'><img src='https://raw.githubusercontent.com/jmasis/nntutorialmentaleffort2021/main/stroop_neural_network_simple_weights_neutral.png'\n",
        "alt=\"3-layer network with bias units\" width=550px height=auto/></p>"
      ],
      "metadata": {
        "id": "k456wpJ64Ck3"
      }
    },
    {
      "cell_type": "code",
      "source": [
        "#### ADJUST THE STROOP NETWORK WEIGHTS ####\n",
        "\n",
        "class ManualWeights:\n",
        "  ### SUBTASK B. START ###\n",
        "  # Weights projecting from color input layer to color hidden layer\n",
        "  scale_ci_ch =  1.3# Your answer\n",
        "  c_in_to_c_h = scale_ci_ch * np.array([[1, -1],\n",
        "                                        [-1, 1]])\n",
        "  # Weights projecting from color hidden layer to output layer\n",
        "  scale_ch_co = 1.7# Your answer\n",
        "  c_h_to_out = scale_ch_co * np.array([[1, -1],\n",
        "                                        [-1, 1]])\n",
        "  # Weights projecting from word input layer to word hidden layer\n",
        "  scale_wi_wh = 2.0# Your answer\n",
        "  w_in_to_w_h = scale_wi_wh * np.array([[1, -1],\n",
        "                                        [-1, 1]])\n",
        "  # Weights projecting from word hidden layer to output layer\n",
        "  scale_wh_wo = 2.5 # Your answer\n",
        "  w_h_to_out = scale_wh_wo * np.array([[1, -1],\n",
        "                                      [-1, 1]])\n",
        "  # Weights projecting from task layer to color hidden layer\n",
        "  scale_ti_ch = 4.3# Your answer\n",
        "  t_in_to_c_h = scale_ti_ch * np.array([[1, 1],\n",
        "                                        [0, 0]])\n",
        "  # Weights projecting from task layer to word hidden layer\n",
        "  scale_ti_wh = 4.3# Your answer\n",
        "  t_in_to_w_h = scale_ti_wh * np.array([[0, 0],\n",
        "                                        [1, 1]])\n",
        "  ### SUBTASK B. END ###\n",
        "\n",
        "# Simulating Runs with your weights\n",
        "responses = simulate_trials(conditions, weights=ManualWeights)\n",
        "error_rates = compute_error_rates(conditions,responses)\n",
        "plot_error_rates(error_rates)\n",
        "\n",
        "#problemset3.test_error_rates(error_rates)"
      ],
      "metadata": {
        "id": "WIS9YZ1f7cgs",
        "colab": {
          "base_uri": "https://localhost:8080/",
          "height": 435
        },
        "outputId": "7b7ae729-40b3-4b1a-8085-91b52a9913b2"
      },
      "execution_count": null,
      "outputs": [
        {
          "output_type": "display_data",
          "data": {
            "text/plain": [
              "<Figure size 640x480 with 1 Axes>"
            ],
            "image/png": "[encoded data removed]"
          },
          "metadata": {}
        }
      ]
    },
    {
      "cell_type": "markdown",
      "source": [
        "### **Exercise 3c. Comment Results (1 point)<br>**\n",
        "\n",
        "<font color=green size=4><b>What exactly does the plot tell us after the adjusment of the weights? Why is color naming more prone to errors? Provide your answer in less than 50 words.</b>\n",
        "\n",
        "**Hint (optional):** *You can refer to the <a href=\"https://psycnet.apa.org/record/1990-27437-001\">Cohen et al. (1990)</a> for getting some intution. The paper is also available on StudIP under Files --> Literature --> Topic 3: Neural Network Modeling.*"
      ],
      "metadata": {
        "id": "mD15YZk_7dDH"
      }
    },
    {
      "cell_type": "code",
      "source": [
        "task_3c = \"\"\"\n",
        "plot shows more observed errors in color naming than word reading.color naming is more prone\n",
        "to errors due to strong connections in the word pathway. Since the\n",
        "stimuli is presented as words, it leads to an automatic activation of the word  pathway.\n",
        "This creates interference during color naming\n",
        "              <YOUR ANSWER GOES HERE.>\n",
        "\n",
        "\"\"\"\n"
      ],
      "metadata": {
        "id": "RaO3rFsMmOgO"
      },
      "execution_count": null,
      "outputs": []
    },
    {
      "cell_type": "markdown",
      "source": [
        "# <font >**Part 2: Fitting the Stroop Model <br>**"
      ],
      "metadata": {
        "id": "yduvxLtuvvxz"
      }
    },
    {
      "cell_type": "markdown",
      "source": [
        "## **Introduction to Part 2**\n",
        "\n",
        "As you may have experienced, it takes quite some time to tweak the weights (i.e., tune its parameters) of a neural network model by hand. Fortunately, this is not a common practice as there are methods to fit the neural network model to data more easily.\n",
        "In this part of the problem set, we shift our focus from modeling information processing to implementing **model fitting**. There is more than one way to fit a neural network model! While traditional approaches often use optimization algorithms like backpropagation—which involves iteratively updating weights to minimize error—we will instead use a method you are already familiar with: maximum-likelihood estimation (MLE) combined with grid search.\n",
        "\n",
        "---\n",
        "\n",
        "### **Why Maximum-Likelihood Estimation and Grid Search?**\n",
        "\n",
        "Maximum-likelihood estimation provides a principled approach to fit model parameters by identifying values that maximize the likelihood of observed behavior. Grid search is used as a straightforward technique to explore the parameter space systematically. By combining these approaches, we evaluate how well the network predicts observed responses across simulated trials. This method allows us to fit our Stroop model to behavioral data in a computationally simple and interpretable way.\n",
        "\n",
        "---\n",
        "\n",
        "### **Simplifying the Model: Transition from Six to Three Weights**\n",
        "\n",
        "In Part 1 of the problem set, we explored the Stroop model using **six distinct scaling weights**, each corresponding to a specific connection pathway in the network:\n",
        "\n",
        "- **Color input → Color hidden** -- `scale_ci_ch`\n",
        "- **Color hidden → Output** -- `scale_ch_out`\n",
        "- **Word input → Word hidden** -- `scale_wi_wh`\n",
        "- **Word hidden → Output** -- `scale_wh_out`\n",
        "- **Task input → Color hidden** -- `scale_ti_ch`\n",
        "- **Task input → Word hidden** -- `scale_ti_wh`\n",
        "\n",
        "This configuration was instrumental in understanding how different weights influence the network's behavior. However, when transitioning to **model fitting**, having six independent parameters would make grid search computationally expensive and prone to overfitting.\n",
        "\n",
        "To address this, we can simplify the model by consolidating the weights into **three pathway-specific scaling parameters**:\n",
        "\n",
        "- `scale_color`: Governs the color processing pathway (**scale_ci_ch** and **scale_ch_out** merged)\n",
        "- `scale_word`: Governs the word processing pathway (**scale_wi_wh** and **scale_wh_out** merged)\n",
        "- `scale_task`: Governs the task processing pathway (**scale_ti_ch** and **scale_ti_wh** merged)\n",
        "\n",
        "Each of these parameters is shared across their respective connections, reducing the parameter space while retaining the ability to capture key behavioral dynamics. This is generally a good strategy if your model has too many parameters, or if some of them cannot be independently recovered.\n",
        "\n",
        "We have implemented these changes already in the `StroopNetwork.MergedWeights` class. You can check it from the `StroopNetwork Class` section in Part 1.\n",
        "\n",
        "---\n",
        "\n",
        "The updated **MergedWeights** class now incorporates these three consolidated scaling parameters while retaining the feedforward architecture we implemented in Part 1. By transitioning to this structure, we achieve two critical goals:\n",
        "\n",
        "1. **Consistency with behavioral data**: The default scaling parameters (`scale_color`, `scale_word`, `scale_task`) reproduce the classic error patterns observed in the Stroop task.\n",
        "2. **Efficiency in model fitting**: Reducing the parameters from six to three significantly accelerates grid search while maintaining interpretability.\n",
        "\n",
        "\n",
        "\n",
        "\n"
      ],
      "metadata": {
        "id": "xp2V1cMM68Yd"
      }
    },
    {
      "cell_type": "markdown",
      "source": [
        "## <font color=\"green\">**Exercise 4 - Transforming Simulated Data <br> (1 point)</font>**\n",
        "\n",
        "In this next step, we provide a helper function to convert the simulation results of the Stroop model into a tabular format (Pandas DataFrame). Additionally, this function samples observed choices for each trial based on the response probabilities generated by the model during the simulation.\n",
        "\n",
        "**Why do we need this helper function?**\n",
        "- **Log-Likelihood Calculation**: In later exercises, we will compute the log-likelihood of the model's predictions. To do this, we need access to the model's predicted probabilities and the sampled observed choices for comparison with the true behavioral data.\n",
        "- **Parameter Fitting**: For fitting the model using grid search, we require a clear, structured representation of the simulation data. The observed choices sampled by this function play a crucial role in evaluating how well the model fits the behavioral data.\n",
        "- **Simplified Analysis**: By organizing the responses into a DataFrame, we make it easier to analyze, debug, and visualize the model’s behavior.\n",
        "\n",
        "You do not need to modify the code. Simply run this cell to prepare the necessary DataFrame (`df`) for the upcoming log-likelihood and parameter fitting exercises."
      ],
      "metadata": {
        "id": "tNoTmiqTA8Ha"
      }
    },
    {
      "cell_type": "code",
      "source": [
        "#############################################\n",
        "########  RUN THIS HELPER CELL  #############\n",
        "###### LOGGING THE TRIALS INTO A DF #########\n",
        "#############################################\n",
        "def responses_to_dataframe_with_choices(conditions, responses):\n",
        "    \"\"\"\n",
        "    Converts the conditions and responses dictionaries into a Pandas DataFrame,\n",
        "    and adds a sampled observed choice based on response probabilities.\n",
        "\n",
        "    Args:\n",
        "        conditions (dict): Trial conditions with inputs.\n",
        "        responses (dict): Simulated responses with probabilities.\n",
        "\n",
        "    Returns:\n",
        "        DataFrame: Tabular format of the simulation results with observed choices.\n",
        "    \"\"\"\n",
        "    data = []\n",
        "    for name, response_list in responses.items():\n",
        "        # Retrieve condition inputs\n",
        "        color_input, word_input, task_input = conditions[name]\n",
        "\n",
        "        for response in response_list:\n",
        "            # Ensure response is a NumPy array\n",
        "            if isinstance(response, list):\n",
        "                choice_probabilities = np.array(response).flatten()\n",
        "            else:\n",
        "                choice_probabilities = response.flatten()\n",
        "\n",
        "            # Sample an observed choice based on probabilities\n",
        "            sampled_choice_index = np.random.choice(\n",
        "                [0, 1], p=choice_probabilities\n",
        "            )\n",
        "            observed_choice = \"red\" if sampled_choice_index == 0 else \"green\"\n",
        "\n",
        "            # Append data for this trial\n",
        "            data.append({\n",
        "                'Condition': name,\n",
        "                'Color_Input': color_input,\n",
        "                'Word_Input': word_input,\n",
        "                'Task_Input': task_input,\n",
        "                'Choice_Probabilities': choice_probabilities.tolist(),\n",
        "                'Observed_Choice': observed_choice\n",
        "            })\n",
        "\n",
        "    # Convert list of trial data into a Pandas DataFrame\n",
        "    return pd.DataFrame(data)\n",
        "\n",
        "# Simulate the model with new updated weights\n",
        "responses = simulate_trials(conditions, weights=StroopNetwork.MergedWeights)\n",
        "# Transform the responses of the simulation into a dataframe\n",
        "df = responses_to_dataframe_with_choices(conditions, responses)\n",
        "# Extract observed choices for log-likelihood calculation\n",
        "true_choices = df[\"Observed_Choice\"].tolist()"
      ],
      "metadata": {
        "id": "Z6KQ0DzUmhKv"
      },
      "execution_count": null,
      "outputs": []
    },
    {
      "cell_type": "markdown",
      "source": [
        "### **Exercise 4a. Variance in Choice Probabilities (1 point)**\n",
        "<font color=\"green\" size=4> **Print the transformed data by running the code cell below. Where does the variance in choice probabilities for the same condition come from? Provide your answer in less than 50 words.**\n",
        "\n",
        "*Hint: You can refer to the `simulate_trials` we implemented in Exercise 2*\n",
        "\n",
        "Run the cell below to generate a cleaned DataFrame summarizing the simulated trials. The DataFrame includes the condition, choice probabilities, and observed choices for each trial.\n",
        "\n",
        "Take a closer look at the **Choice_Probabilities** column across trials within the same condition. Variance in these probabilities can be observed.\n"
      ],
      "metadata": {
        "id": "pAJoM-boDr7y"
      }
    },
    {
      "cell_type": "code",
      "source": [
        "# Transform the responses of the simulation into a dataframe\n",
        "df = responses_to_dataframe_with_choices(conditions, responses)\n",
        "\n",
        "# Drop unnecessary columns for a cleaner display\n",
        "df_cleaned = df.drop(columns=[\"Color_Input\", \"Word_Input\", \"Task_Input\"])\n",
        "\n",
        "# Group by 'Condition' and print a subset of rows for each condition\n",
        "for condition, group in df_cleaned.groupby(\"Condition\"):\n",
        "    print(f\"Sample rows for condition: {condition}\")\n",
        "    print(group.head(5))  # Print the first 5 rows of each condition\n",
        "    print()  # Add a blank line for better readability"
      ],
      "metadata": {
        "colab": {
          "base_uri": "https://localhost:8080/"
        },
        "id": "QWAh_M7WDZmR",
        "outputId": "7c865b53-f4fb-4585-8852-b83dca63a8b4"
      },
      "execution_count": null,
      "outputs": [
        {
          "output_type": "stream",
          "name": "stdout",
          "text": [
            "Sample rows for condition: cn_congruent\n",
            "      Condition                        Choice_Probabilities Observed_Choice\n",
            "0  cn_congruent  [0.9436460033042421, 0.056353996695757906]             red\n",
            "1  cn_congruent   [0.9556201313230231, 0.04437986867697684]             red\n",
            "2  cn_congruent  [0.9596796931749033, 0.040320306825096755]             red\n",
            "3  cn_congruent   [0.9462965638965849, 0.05370343610341505]             red\n",
            "4  cn_congruent   [0.9417575321427836, 0.05824246785721639]             red\n",
            "\n",
            "Sample rows for condition: cn_incongruent\n",
            "         Condition                       Choice_Probabilities Observed_Choice\n",
            "19  cn_incongruent  [0.7780525131390377, 0.22194748686096233]             red\n",
            "20  cn_incongruent  [0.7727522419800705, 0.22724775801992944]             red\n",
            "21  cn_incongruent   [0.7654485782421518, 0.2345514217578481]             red\n",
            "22  cn_incongruent  [0.7787326280347387, 0.22126737196526125]             red\n",
            "23  cn_incongruent   [0.7712472363855524, 0.2287527636144477]             red\n",
            "\n",
            "Sample rows for condition: cn_neutral\n",
            "     Condition                       Choice_Probabilities Observed_Choice\n",
            "27  cn_neutral  [0.08749128912950316, 0.9125087108704968]           green\n",
            "28  cn_neutral  [0.09726966527951493, 0.9027303347204851]             red\n",
            "29  cn_neutral  [0.10454594163330333, 0.8954540583666967]           green\n",
            "30  cn_neutral  [0.08875982092602486, 0.9112401790739751]           green\n",
            "31  cn_neutral  [0.08903180660680406, 0.9109681933931959]           green\n",
            "\n",
            "Sample rows for condition: wr_congruent\n",
            "       Condition                          Choice_Probabilities Observed_Choice\n",
            "48  wr_congruent    [0.018129127218838123, 0.9818708727811619]           green\n",
            "49  wr_congruent    [0.017680005363950875, 0.9823199946360491]           green\n",
            "50  wr_congruent  [0.00046055564753786374, 0.9995394443524621]           green\n",
            "51  wr_congruent                                    [0.0, 1.0]           green\n",
            "52  wr_congruent    [0.015860292395377947, 0.9841397076046221]           green\n",
            "\n",
            "Sample rows for condition: wr_incongruent\n",
            "         Condition                        Choice_Probabilities Observed_Choice\n",
            "61  wr_incongruent  [0.005663343078263159, 0.9943366569217368]           green\n",
            "62  wr_incongruent  [0.015541509856299367, 0.9844584901437007]           green\n",
            "63  wr_incongruent  [0.027090225069297733, 0.9729097749307022]           green\n",
            "64  wr_incongruent  [0.034633595994281285, 0.9653664040057187]           green\n",
            "65  wr_incongruent   [0.010196415974658075, 0.989803584025342]           green\n",
            "\n",
            "Sample rows for condition: wr_neutral\n",
            "     Condition                        Choice_Probabilities Observed_Choice\n",
            "80  wr_neutral  [0.9956716737048084, 0.004328326295191602]             red\n",
            "81  wr_neutral  [0.9800443944804207, 0.019955605519579374]             red\n",
            "82  wr_neutral  [0.9919257839147277, 0.008074216085272215]             red\n",
            "83  wr_neutral  [0.9971562433655019, 0.002843756634498039]             red\n",
            "84  wr_neutral                                  [1.0, 0.0]             red\n",
            "\n"
          ]
        }
      ]
    },
    {
      "cell_type": "code",
      "source": [
        "task_4a = \"\"\"\n",
        "the variance in choice probabilities even in same condition is due to the guassian noise added to the\n",
        "respnse probabilities.The guassian noise introduces some form of randomness which  lead to different\n",
        "choice probabilities each time we run a simulation\n",
        "\n",
        "              <YOUR ANSWER GOES HERE.>\n",
        "\n",
        "\"\"\"\n"
      ],
      "metadata": {
        "id": "5QD78sZuFG4c"
      },
      "execution_count": null,
      "outputs": []
    },
    {
      "cell_type": "markdown",
      "source": [
        "## <font color=\"green\">**Exercise 5 - Parameter Fitting <br> (4 points)</font>**\n",
        "We are finally ready to test if we can recover the model parameters we have used to generate surrogate data. To do so we need a parameter fitting method. We will use the maximum likelihood method, which you are already familiar with from the previous problem sets. To achieve this, we need to implement functions for both calculating the log likelihood as well as performing the grid search."
      ],
      "metadata": {
        "id": "0Tq06VJTf2wp"
      }
    },
    {
      "cell_type": "markdown",
      "source": [
        "###  **Exercise 5a. Compute Log Likelihood <br> (2 points)**\n",
        "<font color=\"green\" size=4> **Complete the missing parts of the code in the `log_likelihood` function to calculate the log likelihood of the model's responses given the observed choices. The log likelihood measures how well the model’s predicted response probabilities align with the observed choices.**"
      ],
      "metadata": {
        "id": "xw-ZcvE56bpD"
      }
    },
    {
      "cell_type": "code",
      "source": [
        "from logging import log\n",
        "def log_likelihood(conditions, responses, true_choices):\n",
        "    \"\"\"\n",
        "    Computes the log likelihood of the model's responses given the true observed choices.\n",
        "\n",
        "    Args:\n",
        "        conditions (dict): Trial conditions with inputs.\n",
        "        responses (dict): Simulated responses with probabilities.\n",
        "        true_choices (list): Observed choices for each trial.\n",
        "\n",
        "    Returns:\n",
        "        float: The log likelihood value.\n",
        "    \"\"\"\n",
        "    # Initialize the log likelihood\n",
        "    LL = 0.0\n",
        "\n",
        "    # Iterate through each condition and its responses\n",
        "    for condition_name, response_list in responses.items():\n",
        "        # Retrieve condition inputs\n",
        "        color_input, word_input, task_input = conditions[condition_name]\n",
        "\n",
        "        for i, response in enumerate(response_list):\n",
        "            # Get the correct choice (true observed choice)\n",
        "            correct_choice = true_choices[i]\n",
        "             # Access by index\n",
        "\n",
        "            ### START EXERCISE 5a. ###\n",
        "            # Map the choice (e.g., \"red\" or \"green\") to its corresponding index\n",
        "            # HINT: Consider using a dictionary to define the mapping.\n",
        "            choice_to_index =  {\n",
        "                \"red\": 0,\n",
        "                \"green\": 1\n",
        "            }\n",
        "\n",
        "            # YOUR ANSWER GOES HERE\n",
        "\n",
        "            # Find the index of the correct choice using the mapping.\n",
        "            correct_choice_index = choice_to_index[correct_choice]\n",
        "\n",
        "            # YOUR ANSWER GOES HERE\n",
        "\n",
        "            # Retrieve the probability of the correct choice from the response.\n",
        "            # HINT: Access the probability using the index from the response array.\n",
        "            probability_of_correct = response[0][correct_choice_index]\n",
        "            # YOUR ANSWER GOES HERE\n",
        "            ### END EXERCISE 5a. ###\n",
        "\n",
        "            # Log likelihood update (handling edge cases for log(0))\n",
        "            LL += np.log(probability_of_correct + 1e-10)  # Add small epsilon to avoid log(0))\n",
        "\n",
        "    return LL\n",
        "# If you are not sure you correctly solved the exercise uncomment the line below\n",
        "log_likelihood = problemset3.log_likelihood\n"
      ],
      "metadata": {
        "id": "UulGg5yvPQSO"
      },
      "execution_count": null,
      "outputs": []
    },
    {
      "cell_type": "markdown",
      "source": [
        "### **Exercise 5b. Implement Grid Search <br> (2 points)**\n",
        "<font color=\"green\" size=4> **Complete the missing parts of the `grid_search` function to find the best-fitting parameters that maximize the log likelihood.**</font>\n",
        "\n",
        "\n",
        "For searching the parameter space, we need to implement a search algorithm. Grid search systematically explores all combinations of parameters to find the set that maximizes the log likelihood. Since our model has only three parameters now (`scale_color, scale_word, scale_task`), grid search is computationally feasible.\n"
      ],
      "metadata": {
        "id": "MOwXBDW86ee1"
      }
    },
    {
      "cell_type": "code",
      "source": [
        "def grid_search(conditions, responses, true_choices, param_ranges):\n",
        "    \"\"\"\n",
        "    Performs grid search to find the best parameters by maximizing the log likelihood.\n",
        "\n",
        "    Args:\n",
        "        conditions (dict): Trial conditions with inputs.\n",
        "        responses (dict): Simulated responses with probabilities.\n",
        "        true_choices (list): Observed choices for each trial.\n",
        "        param_ranges (dict): Dictionary of parameter ranges, where keys are the parameter names\n",
        "                             and values are tuples representing the range (min, max).\n",
        "\n",
        "    Returns:\n",
        "        dict: Best parameters.\n",
        "        float: Best log likelihood.\n",
        "    \"\"\"\n",
        "    best_log_likelihood = -np.inf\n",
        "    best_params = {}\n",
        "\n",
        "    # Generate the grid of parameter values using linspace for each parameter\n",
        "    param_values = {param: np.linspace(start, end, num=11)\n",
        "                    for param, (start, end) in param_ranges.items()}\n",
        "\n",
        "    # Generate all combinations of parameters\n",
        "    param_combinations = np.array(np.meshgrid(*param_values.values())).T.reshape(-1, len(param_ranges))\n",
        "\n",
        "    # Iterate through all combinations of parameter values\n",
        "    for combination in param_combinations:\n",
        "        # Create a parameter dictionary from the current combination\n",
        "        params = {param: combination[i] for i, param in enumerate(param_values.keys())}\n",
        "\n",
        "        # Create the StroopNetwork.Weights object\n",
        "        weights = StroopNetwork.MergedWeights()\n",
        "\n",
        "        # Assign parameter values to the weights object\n",
        "        weights.c_in_to_c_h = params['scale_color'] * np.array([[1, -1], [-1, 1]])\n",
        "        weights.c_h_to_out =  params['scale_color'] * np.array([[1, -1], [-1, 1]])\n",
        "        weights.w_in_to_w_h = params['scale_word']  * np.array([[1, -1], [-1, 1]])\n",
        "        weights.w_h_to_out =  params['scale_word'] * np.array([[1, -1], [-1, 1]])\n",
        "        weights.t_in_to_c_h = params['scale_task'] * np.array([[1, 1],  [0, 0]])\n",
        "        weights.t_in_to_w_h = params['scale_task'] * np.array([[0, 0],  [1, 1]])\n",
        "\n",
        "        # Simulate responses with the current parameters\n",
        "        responses = simulate_trials(conditions, weights=weights)\n",
        "\n",
        "        ### START EXERCISE 5b. ###\n",
        "        # Compute log likelihood for the current parameters\n",
        "        log_likelihood_value = log_likelihood(conditions, responses, true_choices)\n",
        "\n",
        "        # YOUR ANSWER GOES HERE\n",
        "\n",
        "        # Update best parameters and best LL value if log likelihood improves\n",
        "        if log_likelihood_value > best_log_likelihood:\n",
        "          best_log_likelihood = log_likelihood_value\n",
        "          best_params = params\n",
        "\n",
        "            # YOUR ANSWER GOES HERE\n",
        "            # YOUR ANSWER GOES HERE\n",
        "        ### END EXERCISE 5b. ###\n",
        "\n",
        "    return best_params, best_log_likelihood\n",
        "\n",
        "# If you are not sure you correctly solved the exercise uncomment the line below\n",
        "grid_search = problemset3.grid_search"
      ],
      "metadata": {
        "id": "L5WDrmhoyWGP"
      },
      "execution_count": null,
      "outputs": []
    },
    {
      "cell_type": "markdown",
      "source": [
        "## <font color=\"green\">**Exercise 6 - Parameter Recovery and Model Evaluation <br> (3 points)</font>**\n",
        "\n",
        "Now, we have our model and a parameter fitting method. The next step is to validate our model by trying to recover original parameter values we used to simulate our surrogate data.\n",
        "\n"
      ],
      "metadata": {
        "id": "cVkXLKBRgKcm"
      }
    },
    {
      "cell_type": "code",
      "source": [
        "# Define the ranges for each parameter using a tuple (min, max)\n",
        "param_ranges = {\n",
        "    'scale_color': (1.0, 2.0),   # From 1.0 to 2.0 for scale_color\n",
        "    'scale_word' : (2.0, 3.0),   # From 1.5 to 2.5 for scale_word\n",
        "    'scale_task' : (3.5, 4.5)    # From 3.5 to 4.5 for scale_task\n",
        "}\n",
        "\n",
        "# Set up a class for fitted weights\n",
        "class FittedWeights:\n",
        "    def __init__(self, scale_color, scale_word, scale_task):\n",
        "        self.c_in_to_c_h = scale_color * np.array([[1, -1], [-1, 1]])\n",
        "        self.c_h_to_out = scale_color * np.array([[1, -1], [-1, 1]])\n",
        "        self.w_in_to_w_h = scale_word * np.array([[1, -1], [-1, 1]])\n",
        "        self.w_h_to_out = scale_word * np.array([[1, -1], [-1, 1]])\n",
        "        self.t_in_to_c_h = scale_task * np.array([[1, 1], [0, 0]])\n",
        "        self.t_in_to_w_h = scale_task * np.array([[0, 0], [1, 1]])\n",
        "\n",
        "\n",
        "# Perform grid search to find the best-fitting parameters\n",
        "best_params, best_log_likelihood = grid_search(conditions, responses, true_choices, param_ranges)\n",
        "\n",
        "# Create an instance of FittedWeights using the best parameters\n",
        "fitted_weights = FittedWeights(\n",
        "    scale_color=best_params['scale_color'],\n",
        "    scale_word=best_params['scale_word'],\n",
        "    scale_task=best_params['scale_task']\n",
        ")\n",
        "\n",
        "# Print the recovered parameters and the log likelihood\n",
        "print(\"Best Parameters:\", best_params)\n",
        "print(\"Best Log Likelihood:\", best_log_likelihood)"
      ],
      "metadata": {
        "colab": {
          "base_uri": "https://localhost:8080/"
        },
        "id": "NH7mah3rR3mP",
        "outputId": "3312419c-6752-4e54-cdd8-7fb332f61eb4"
      },
      "execution_count": null,
      "outputs": [
        {
          "output_type": "stream",
          "name": "stdout",
          "text": [
            "Best Parameters: {'scale_color': 1.5, 'scale_word': 2.0, 'scale_task': 4.2}\n",
            "Best Log Likelihood: -105.95832456717598\n"
          ]
        }
      ]
    },
    {
      "cell_type": "markdown",
      "source": [
        "### **Exercise 6a: Compare Model Performance <br> (1 point)**  \n",
        "<font color=\"green\" size=4> **How do the error rates with the fitted weights differ compare to the error rates with the untrained weights? Briefly describe the changes in error patterns in less than 50 words.**  \n",
        "</font>\n",
        "\n",
        "\n",
        "\n",
        "Simulate trials and plot error rates for both *untrained weights* and *fitted weights*. Run the code block below to generate the plots."
      ],
      "metadata": {
        "id": "JQmtTFYCSVRB"
      }
    },
    {
      "cell_type": "code",
      "source": [
        "# Simulate trials with untrained weights\n",
        "responses = simulate_trials(conditions, weights=StroopNetwork.Weights)\n",
        "error_rates = compute_error_rates(conditions,responses)\n",
        "plot_error_rates(error_rates)\n",
        "\n",
        "# Simulate trials with the fitted weights\n",
        "responses_fitted = simulate_trials(conditions, weights=fitted_weights)\n",
        "error_rates = compute_error_rates(conditions,responses_fitted)\n",
        "plot_error_rates(error_rates)"
      ],
      "metadata": {
        "colab": {
          "base_uri": "https://localhost:8080/",
          "height": 853
        },
        "id": "ql9Az96viszT",
        "outputId": "9e36b254-0685-4daf-f7ff-6e8948796b62"
      },
      "execution_count": null,
      "outputs": [
        {
          "output_type": "display_data",
          "data": {
            "text/plain": [
              "<Figure size 640x480 with 1 Axes>"
            ],
            "image/png": "[encoded data removed]"
          },
          "metadata": {}
        },
        {
          "output_type": "display_data",
          "data": {
            "text/plain": [
              "<Figure size 640x480 with 1 Axes>"
            ],
            "image/png": "[encoded data removed]"
          },
          "metadata": {}
        }
      ]
    },
    {
      "cell_type": "code",
      "source": [
        "task_6a = \"\"\"\n",
        "for the untrained weights, same errors(Neutral vs neutral,incongruent vs incongruent,congruent vs congruent) are observed in color naming and word\n",
        "reading task but for the fitted weights, errors for the three conditions in a color naming task\n",
        "is higher than the ones during a word reading task.\n",
        "          <YOUR ANSWER GOES HERE.>\n",
        "\n",
        "\"\"\""
      ],
      "metadata": {
        "id": "LOCrvdKmXlGr"
      },
      "execution_count": null,
      "outputs": []
    },
    {
      "cell_type": "markdown",
      "source": [
        "### **Exercise 6b: Compare Model Performance with Human Data <br> (1 point)**  \n",
        "<font color=\"green\" size=4> **How do the error response pattern with the fitted weights compare to the error response pattern we see with human data? Briefly describe the fitting performance of the model in less than 50 words.**  \n",
        "</font>\n",
        "\n",
        "*Hint: Refer to the `Exercise 3b` for the classical error response pattern seen in human data*"
      ],
      "metadata": {
        "id": "Q5HQuqmZaA20"
      }
    },
    {
      "cell_type": "code",
      "source": [
        "task_6b = \"\"\"\n",
        " the error response pattern with fitted weights do correspond to that of the human data in 3b.\n",
        " The fitting performance clearly captures the observed data , similar to that of human data\n",
        "          <YOUR ANSWER GOES HERE.>\n",
        "\n",
        "\"\"\""
      ],
      "metadata": {
        "id": "O4nVrDkkbdkw"
      },
      "execution_count": null,
      "outputs": []
    },
    {
      "cell_type": "markdown",
      "source": [
        "### Exercise 6c. Reflect on the Parameter Recovery Process (1 point)\n",
        "<font color=\"green\" size=4> **What are the limitations of recovering model parameters using only one weight configuration? How might using multiple configurations improve the evaluation of the parameter recovery process? Provide your answer in less than 50 words.**\n",
        "\n",
        "Consider the fact that we are simulating and recovering the model using only one weight configuration `MergedWeights`. Reflect on the limitations of this approach."
      ],
      "metadata": {
        "id": "33EX4pxRSy-l"
      }
    },
    {
      "cell_type": "code",
      "source": [
        "task_6c = \"\"\"\n",
        "one weight configuration  limits the ability to explore a wider range of potential weight values,\n",
        "and this can hinder the model's ability to generalize better across multiple stimuli presentation.\n",
        "This in effect may hinder performance. However,multiple configurations allow for optimal combinations of\n",
        "weights that ensure better generalization and performance\n",
        "\n",
        "          <YOUR ANSWER GOES HERE.>\n",
        "\n",
        "\"\"\""
      ],
      "metadata": {
        "id": "cBNzEAUjTjYE"
      },
      "execution_count": null,
      "outputs": []
    },
    {
      "cell_type": "markdown",
      "source": [
        "## <font color=\"green\">**Bonus Exercise - Fitting Model to Experimental Data (1 point)<br> </font>**"
      ],
      "metadata": {
        "id": "tULKLpqvTylQ"
      }
    },
    {
      "cell_type": "markdown",
      "source": [
        "### **Run the Stroop Experiment**\n",
        "\n",
        "Click the link below to directly run the Stroop experiment in your browser:\n",
        "\n",
        "[Run the Stroop Experiment](https://snamazova.github.io/stroop_experiment/stroop_task.html)\n",
        "\n",
        "*Note: The experiment lasts 100 trials. At the end of the experiment, your data will be automatically downloaded to your local machine. No experimental data is processed online.*\n"
      ],
      "metadata": {
        "id": "HxDW5-kdxOOZ"
      }
    },
    {
      "cell_type": "markdown",
      "source": [
        "### **Upload Your Experiment Data**\n",
        "\n",
        "Upload your experiment data `experiment.csv`.\n",
        "\n",
        "*Note: Make sure that your file is named 'experiment.csv'.*"
      ],
      "metadata": {
        "id": "zVkMoJUiYEyI"
      }
    },
    {
      "cell_type": "code",
      "source": [
        "#############################################\n",
        "###### UPLOAD AND LOAD EXPERIMENT DATA ######\n",
        "#############################################\n",
        "\n",
        "from google.colab import files\n",
        "\n",
        "# Prompt the user to upload their CSV file\n",
        "print(\"Please upload your experiment data file (experiment.csv):\")\n",
        "uploaded = files.upload()\n",
        "\n",
        "# Check if the file is successfully uploaded\n",
        "if 'experiment.csv' in uploaded:\n",
        "    # Load the file into a pandas DataFrame\n",
        "    experiment_data = pd.read_csv('experiment.csv')\n",
        "    print(\"\\nFile uploaded and loaded successfully into the DataFrame: 'experiment_data' \")\n",
        "else:\n",
        "    print(\"\\nNo file uploaded. Please try again.\")"
      ],
      "metadata": {
        "id": "q1AXpkpbUWOp"
      },
      "execution_count": null,
      "outputs": []
    },
    {
      "cell_type": "markdown",
      "source": [
        "### **Preprocess the Data**\n"
      ],
      "metadata": {
        "id": "Mu2QQb09_qR8"
      }
    },
    {
      "cell_type": "markdown",
      "source": [
        "**NOTE: The preprocessing code is currently not working! As of right now you have to;**\n",
        "\n",
        "1) process the raw data yourself\n",
        "\n",
        "2) then, fit the model to your own data."
      ],
      "metadata": {
        "id": "7wfsmibbxvmY"
      }
    },
    {
      "cell_type": "code",
      "source": [
        "# Preprocess the data here"
      ],
      "metadata": {
        "id": "vCnkJrSHhJVO"
      },
      "execution_count": null,
      "outputs": []
    },
    {
      "cell_type": "markdown",
      "source": [
        "### **Fit Model to Experimental Data (1 point)**\n",
        "<font color=\"green\" size=4> **Fit the Stroop model to your own behavioral data. Recover model parameters and plot your error response pattern.**\n"
      ],
      "metadata": {
        "id": "9pqgfSBxfuhn"
      }
    },
    {
      "cell_type": "code",
      "source": [
        "# YOUR ANSWER GOES HERE"
      ],
      "metadata": {
        "id": "7HTfMbAxhWW4"
      },
      "execution_count": null,
      "outputs": []
    }
  ]
}